{
  "nbformat": 4,
  "nbformat_minor": 0,
  "metadata": {
    "colab": {
      "provenance": []
    },
    "kernelspec": {
      "name": "python3",
      "display_name": "Python 3"
    },
    "language_info": {
      "name": "python"
    }
  },
  "cells": [
    {
      "cell_type": "markdown",
      "source": [
        "# Reading MS Word document\n",
        "\n",
        "We read the document and create a .csv file with the list of paragaphs and their lengths"
      ],
      "metadata": {
        "id": "FXP48tIsZTyR"
      }
    },
    {
      "cell_type": "code",
      "source": [
        "# open google drive\n",
        "# we import the library that helps us to connect to Google Drive\n",
        "from google.colab import drive\n",
        "\n",
        "# we connect to the google drive\n",
        "drive.mount('/content/gdrive/')\n",
        "\n",
        "# and we enter the folder where I stored the data\n",
        "%cd '/content/gdrive/My Drive/'"
      ],
      "metadata": {
        "colab": {
          "base_uri": "https://localhost:8080/"
        },
        "id": "oKFSmgmNZrdD",
        "outputId": "5bd5ba99-9200-4d09-9d51-bbc0ef38e3f9"
      },
      "execution_count": null,
      "outputs": [
        {
          "output_type": "stream",
          "name": "stdout",
          "text": [
            "Mounted at /content/gdrive/\n",
            "/content/gdrive/My Drive\n"
          ]
        }
      ]
    },
    {
      "cell_type": "code",
      "source": [
        "docTitle = \"CHAIR Theme Project Plan： AI and Robotics for Health and Rehabilitation.docx\""
      ],
      "metadata": {
        "id": "-bu8tMVzbab1"
      },
      "execution_count": null,
      "outputs": []
    },
    {
      "cell_type": "markdown",
      "source": [
        "## Solution 1: docx2txt\n",
        "\n",
        "This is a simple parser that we can use to extract text and images. Through a text file.\n",
        "\n",
        "So, no paragraphs or anything like that."
      ],
      "metadata": {
        "id": "E1jvAWN3a8xI"
      }
    },
    {
      "cell_type": "code",
      "execution_count": null,
      "metadata": {
        "colab": {
          "base_uri": "https://localhost:8080/"
        },
        "id": "MlDcp39kfC6B",
        "outputId": "e3f33f49-fa4c-4c4d-f577-6c4284739205"
      },
      "outputs": [
        {
          "output_type": "stream",
          "name": "stdout",
          "text": [
            "  Preparing metadata (setup.py) ... \u001b[?25l\u001b[?25hdone\n",
            "  Building wheel for docx2txt (setup.py) ... \u001b[?25l\u001b[?25hdone\n"
          ]
        }
      ],
      "source": [
        "!pip install -q docx2txt\n",
        "import docx2txt\n",
        "\n",
        "result = docx2txt.process(docTitle)"
      ]
    },
    {
      "cell_type": "code",
      "source": [
        "allLines = result.split('\\n')"
      ],
      "metadata": {
        "id": "333F6ASeag5y"
      },
      "execution_count": null,
      "outputs": []
    },
    {
      "cell_type": "code",
      "source": [
        "for oneLine in allLines:\n",
        "  print(oneLine)"
      ],
      "metadata": {
        "id": "Gz9gp51zaorv"
      },
      "execution_count": null,
      "outputs": []
    },
    {
      "cell_type": "markdown",
      "source": [
        "## Solution 2: docx\n",
        "\n",
        "This is a library that understands MS Word styles"
      ],
      "metadata": {
        "id": "xm9i5GSybNIt"
      }
    },
    {
      "cell_type": "code",
      "source": [
        "!pip install -q docx2python\n",
        "from docx2python import docx2python\n",
        "\n"
      ],
      "metadata": {
        "id": "toZhV25ubSVb"
      },
      "execution_count": null,
      "outputs": []
    },
    {
      "cell_type": "code",
      "source": [
        "# extract docx content\n",
        "doc_result = docx2python(docTitle, paragraph_styles = True, html=True)"
      ],
      "metadata": {
        "id": "CYihJbqseeBC"
      },
      "execution_count": null,
      "outputs": []
    },
    {
      "cell_type": "code",
      "source": [
        "print(doc_result)"
      ],
      "metadata": {
        "colab": {
          "base_uri": "https://localhost:8080/"
        },
        "id": "yJScbyZ-cRiM",
        "outputId": "378f04d7-71b0-41bf-bc8e-0a2cfbb4c01a"
      },
      "execution_count": null,
      "outputs": [
        {
          "output_type": "stream",
          "name": "stdout",
          "text": [
            "DocxContent(docx_reader=DocxReader(), docx2python_kwargs={'docx_filename': 'CHAIR Theme Project Plan： AI and Robotics for Health and Rehabilitation.docx', 'image_folder': None, 'html': True, 'paragraph_styles': True, 'extract_image': None, 'duplicate_merged_cells': False, 'docx_context': DocxReader()})\n"
          ]
        }
      ]
    },
    {
      "cell_type": "code",
      "source": [
        "for oneLine in doc_result.text.split('\\n'):\n",
        "  if not \"h1\" in oneLine and len(oneLine) > 1:\n",
        "    shortLine = oneLine[:5].replace(\"\\t\", \" \") + '...'\n",
        "    strLine = f'Line: {shortLine:<10}: {len(oneLine.split())}'\n",
        "    print(strLine)"
      ],
      "metadata": {
        "colab": {
          "base_uri": "https://localhost:8080/"
        },
        "id": "9o1Fww3Df21I",
        "outputId": "f1974c4d-f49f-4819-82b0-210aa1d8d27e"
      },
      "execution_count": null,
      "outputs": [
        {
          "output_type": "stream",
          "name": "stdout",
          "text": [
            "Line: ----I...  : 4\n",
            "Line: ----m...  : 1\n",
            "Line: AI an...  : 7\n",
            "Line: AI an...  : 104\n",
            "Line: Resea...  : 139\n",
            "Line: A cri...  : 181\n",
            "Line: The s...  : 58\n",
            "Line: A nov...  : 145\n",
            "Line: The n...  : 233\n",
            "Line: The c...  : 100\n",
            "Line: <b>Us...  : 5\n",
            "Line: We pl...  : 23\n",
            "Line: We wi...  : 18\n",
            "Line: -- <a...  : 9\n",
            "Line: -- <a...  : 8\n",
            "Line: -- <a...  : 9\n",
            "Line: -- <a...  : 6\n",
            "Line: -- <a...  : 7\n",
            "Line: -- <a...  : 6\n",
            "Line: In ad...  : 43\n",
            "Line: We wi...  : 25\n",
            "Line: First...  : 54\n",
            "Line: Secon...  : 71\n",
            "Line: We ai...  : 130\n",
            "Line: <b>Sp...  : 4\n",
            "Line: -- <b...  : 10\n",
            "Line: <u>Or...  : 9\n",
            "Line: </u>T...  : 8\n",
            "Line:  -- ...   : 1\n",
            "Line: -- <b...  : 8\n",
            "Line: Organ...  : 10\n",
            "Line:  -- <...  : 8\n",
            "Line: -- <b...  : 12\n",
            "Line: <u>Or...  : 5\n",
            "Line: Topic...  : 10\n",
            "Line: Partn...  : 8\n",
            "Line:  -- T...  : 20\n",
            "Line:  -- I...  : 6\n",
            "Line: </i>...   : 1\n",
            "Line: -- <b...  : 6\n",
            "Line: </b>I...  : 42\n",
            "Line: <u>Or...  : 6\n",
            "Line: Forma...  : 8\n",
            "Line: Need:...  : 17\n",
            "Line: <u>Us...  : 5\n",
            "Line: Rober...  : 27\n",
            "Line: </i>...   : 1\n",
            "Line: -- <b...  : 24\n",
            "Line:  -- S...  : 26\n",
            "Line: <u>Or...  : 6\n",
            "Line: Scope...  : 62\n",
            "Line: </i>...   : 1\n",
            "Line: -- <b...  : 12\n",
            "Line: <u>Or...  : 6\n",
            "Line: Scope...  : 52\n",
            "Line: -- <b...  : 13\n",
            "Line: <u>Or...  : 11\n",
            "Line: Colla...  : 12\n",
            "Line: <u>Us...  : 5\n",
            "Line: </u>...   : 1\n",
            "Line: -- <b...  : 6\n",
            "Line: </b>I...  : 34\n",
            "Line: -- <b...  : 11\n",
            "Line: </b><...  : 9\n",
            "Line: </b>T...  : 10\n",
            "Line: Work ...  : 5\n",
            "Line:  -- G...  : 11\n",
            "Line:   -- ...  : 12\n",
            "Line:   -- ...  : 8\n",
            "Line:  -- <...  : 11\n",
            "Line: -- <b...  : 8\n",
            "Line:  -- E...  : 12\n",
            "Line:   -- ...  : 12\n",
            "Line:   -- ...  : 9\n",
            "Line:  -- M...  : 9\n",
            "Line:   -- ...  : 3\n",
            "Line:  -- C...  : 13\n",
            "Line: Possi...  : 5\n",
            "Line:  -- F...  : 12\n",
            "Line: A bud...  : 14\n",
            "Line: Descr...  : 10\n",
            "Line: <b>Th...  : 4\n",
            "Line: -- Mi...  : 3\n",
            "Line: -- Em...  : 3\n",
            "Line: <b>Co...  : 2\n",
            "Line: -- Pe...  : 3\n",
            "Line: -- Ka...  : 3\n",
            "Line: -- Ro...  : 3\n",
            "Line: -- Fr...  : 3\n",
            "Line: <b>Es...  : 4\n",
            "Line: -- St...  : 4\n",
            "Line: -- Re...  : 4\n",
            "Line: -- Ma...  : 4\n",
            "Line: -- Th...  : 8\n",
            "Line: -- Ch...  : 6\n",
            "Line: <b>Ke...  : 5\n",
            "Line: -- Sa...  : 7\n",
            "Line: -- Mo...  : 3\n",
            "Line: -- As...  : 5\n",
            "Line: <b>Po...  : 3\n",
            "Line: -- So...  : 4\n",
            "Line: -- Ur...  : 4\n",
            "Line: -- Gi...  : 4\n",
            "Line: -- Na...  : 4\n",
            "Line: -- Na...  : 4\n",
            "Line: -- Ma...  : 4\n",
            "Line: -- Ta...  : 4\n",
            "Line: -- Ka...  : 4\n",
            "Line: -- Te...  : 4\n"
          ]
        }
      ]
    }
  ]
}