{
 "cells": [
  {
   "cell_type": "markdown",
   "metadata": {},
   "source": [
    "# Test of Ollama framework\n",
    "\n",
    "In this script, we test the ollama framework instead of the raw HF approach. This is a WS option."
   ]
  },
  {
   "cell_type": "code",
   "execution_count": null,
   "metadata": {},
   "outputs": [],
   "source": [
    "import requests\n",
    "import json\n",
    "\n",
    "url = 'http://localhost:11434/api/generate'\n",
    "data = {\n",
    "    \"model\": \"llama3.1\",\n",
    "    \"prompt\": \"Why is the sky blue?\",\n",
    "    \"stream\": False\n",
    "    }\n",
    "headers = {'Content-Type': 'application/json'}\n",
    "response = requests.post(url, data=json.dumps(data), headers=headers)\n",
    "\n",
    "json_data = json.loads(response.text)\n",
    "\n",
    "print(json_data['response'])\n",
    "\n"
   ]
  },
  {
   "cell_type": "markdown",
   "metadata": {},
   "source": []
  },
  {
   "cell_type": "markdown",
   "metadata": {},
   "source": []
  },
  {
   "cell_type": "code",
   "execution_count": 8,
   "metadata": {},
   "outputs": [],
   "source": [
    "content = ['', '--\\tPBSP and PBCP (including Mobile PBCP) should be able to negotiate QoS and cost for content distribution and latency.', '', '--\\tPBSP and PBCP (including Mobile PBCP) should be able to request notification prior to content transmission.', '', '--\\tNotification may be given to BSUs prior to streaming session initiation.', '', '--\\tBSUs may be able to choose categories of content to be notified about, e.g. from an electronic service guide.', '', '--\\tBSUs should be able to access PBS service using third party user interface software.', '', '--\\tStatistical information (e.g number of BSUs, resource usage) should be collected and make available  to PBSP and PBCP.', '', '--\\tIt should be possible that failure of BSU access (e.g. resource shortage or UE incapability) be reported to PBCP.', '', '--\\tHandover within the same radio access technology should be transparent to BSU.', '', '--\\tLatency for content switching should be within an acceptable bound to user perception.', '', '--\\tQoS should be supported.', '', '--\\tWhen macro cell and Home (e)NodeB cell are combined, service continuity between the cells should be supported. ', '']\n",
    "content_str = \" \".join(content)\n",
    "strContent = f\"Write a requirement based on this: {content_str}. \""
   ]
  },
  {
   "cell_type": "code",
   "execution_count": 12,
   "metadata": {},
   "outputs": [
    {
     "name": "stdout",
     "output_type": "stream",
     "text": [
      "Here is a formalized version of the requirements:\n",
      "\n",
      "**Functional Requirements**\n",
      "\n",
      "1. **QoS and Cost Negotiation**: The PBSP (Programme Broadcast Service Provider) and PBCP (Programme Broadcast Control Point), including Mobile PBCP, shall be able to negotiate Quality of Service (QoS) and cost for content distribution and latency.\n",
      "2. **Notification Request**: The PBSP and PBCP, including Mobile PBCP, shall be able to request notification prior to content transmission.\n",
      "3. **Content Notification**: BSUs (Broadcasting Service Units) may receive notifications prior to streaming session initiation, allowing them to choose categories of content to be notified about using an electronic service guide.\n",
      "4. **Third-Party Access**: BSUs shall be able to access PBS (Programme Broadcast Service) using third-party user interface software.\n",
      "5. **Statistical Information Collection**: Statistical information (e.g., number of BSUs, resource usage) shall be collected and made available to the PBSP and PBCP.\n",
      "\n",
      "**Non-Functional Requirements**\n",
      "\n",
      "1. **Failure Reporting**: The system shall report failure of BSU access (e.g., resource shortage or UE incapability) to the PBCP.\n",
      "2. **Handover Transparency**: Handover within the same radio access technology shall be transparent to the BSU.\n",
      "3. **Latency Limitation**: Latency for content switching shall be within an acceptable bound to user perception.\n",
      "4. **QoS Support**: QoS shall be supported throughout the system.\n",
      "5. **Service Continuity**: When macro cell and Home (e)NodeB cell are combined, service continuity between the cells shall be supported.\n",
      "\n",
      "These requirements capture the essential functional and non-functional aspects of the system as described in the original text.\n",
      "Headline: Here are a few headline options based on the provided requirements:\n",
      "\n",
      "1. **\"Broadcasting Service Revolution: Requirements for Next-Gen Programme Broadcast System Announced\"**\n",
      "2. **\"Streaming Success Guaranteed: Functional and Non-Functional Requirements Unveiled for Programme Broadcast Service Provider\"**\n",
      "3. **\"PBSP and PBCP to Get Smarter: QoS, Cost Negotiation, and Notification Requests Now Required\"**\n",
      "4. **\"Third-Party Access and Statistical Insights: The Future of Programme Broadcast Services Takes Shape\"**\n",
      "5. **\"Guaranteeing Quality and Continuity: Non-Functional Requirements for Programme Broadcast Service Unveiled\"**\n",
      "\n",
      "Choose the one that best captures the essence of the requirements or feel free to modify them as per your preference!\n"
     ]
    }
   ],
   "source": [
    "data = {\n",
    "    \"model\": \"llama3.1\",\n",
    "    \"prompt\": strContent,\n",
    "    \"stream\": False\n",
    "    }\n",
    "\n",
    "headers = {'Content-Type': 'application/json'}\n",
    "response = requests.post(url, data=json.dumps(data), headers=headers)\n",
    "\n",
    "json_data = json.loads(response.text)\n",
    "\n",
    "resp = json_data['response']\n",
    "\n",
    "print(resp)\n",
    "\n",
    "data.update({'prompt': f'write a headline for this requirement: {resp}'})\n",
    "\n",
    "response = requests.post(url, data=json.dumps(data), headers=headers)\n",
    "\n",
    "json_data = json.loads(response.text)\n",
    "\n",
    "print(f\"Headline: {json_data['response']}\")"
   ]
  }
 ],
 "metadata": {
  "kernelspec": {
   "display_name": "standards_n6",
   "language": "python",
   "name": "python3"
  },
  "language_info": {
   "codemirror_mode": {
    "name": "ipython",
    "version": 3
   },
   "file_extension": ".py",
   "mimetype": "text/x-python",
   "name": "python",
   "nbconvert_exporter": "python",
   "pygments_lexer": "ipython3",
   "version": "3.10.12"
  }
 },
 "nbformat": 4,
 "nbformat_minor": 2
}
