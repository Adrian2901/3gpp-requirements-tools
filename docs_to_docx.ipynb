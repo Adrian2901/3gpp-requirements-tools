{
 "cells": [
  {
   "cell_type": "markdown",
   "metadata": {},
   "source": [
    "# Transforming all doc files in the 3GPP download to the docx format\n",
    "\n",
    "The files can be in the .zip file or anywhere else"
   ]
  },
  {
   "cell_type": "code",
   "execution_count": 1,
   "metadata": {},
   "outputs": [],
   "source": [
    "# first, we need to get the list of all .doc and .zip files in the 3GPP folder and all of its subfolders\n",
    "import os\n",
    "\n",
    "# this function will return a list of all .doc and .zip files in the 3GPP folder and all of its subfolders\n",
    "def get_files(strFolder):\n",
    "    files2 = []\n",
    "    for root, dirs, files in os.walk(strFolder):\n",
    "        for file in files:\n",
    "            if file.endswith(\".doc\") or file.endswith(\".zip\"):\n",
    "                files2.append([root, file])\n",
    "    return files2"
   ]
  },
  {
   "cell_type": "code",
   "execution_count": 2,
   "metadata": {},
   "outputs": [],
   "source": [
    "# for the conversion, we use the uno framework from the libreoffice package\n",
    "# it requires additional installation of the unoconv package\n",
    "# to install it, run the following command in the terminal:\n",
    "# sudo apt-get install unoconv\n",
    "\n",
    "import subprocess\n",
    "\n",
    "def convert_doc_to_docx(doc_file):\n",
    "    # Use unoconv to convert .doc to .docx\n",
    "    subprocess.run([\"unoconv\", \"-f\", \"docx\", doc_file], stdout=subprocess.DEVNULL, stderr=subprocess.DEVNULL)"
   ]
  },
  {
   "cell_type": "code",
   "execution_count": 3,
   "metadata": {},
   "outputs": [
    {
     "name": "stdout",
     "output_type": "stream",
     "text": [
      "941285\n"
     ]
    }
   ],
   "source": [
    "# first, let's collect all the .zip and .doc and .rtf files\n",
    "str3GPPFolder = '/mnt/d/3GPP/'\n",
    "\n",
    "files = get_files(str3GPPFolder)\n",
    "\n",
    "print(len(files))"
   ]
  },
  {
   "cell_type": "code",
   "execution_count": 5,
   "metadata": {},
   "outputs": [],
   "source": [
    "# save that list to a file\n",
    "with open('./3GPP_files.txt', 'w') as f:\n",
    "    for item in files:\n",
    "        f.write(\"%s\\n\" % item)"
   ]
  },
  {
   "cell_type": "code",
   "execution_count": 7,
   "metadata": {},
   "outputs": [
    {
     "name": "stdout",
     "output_type": "stream",
     "text": [
      "100 of 941285 files processed\n",
      "200 of 941285 files processed\n",
      "300 of 941285 files processed\n",
      "400 of 941285 files processed\n",
      "500 of 941285 files processed\n",
      "600 of 941285 files processed\n",
      "700 of 941285 files processed\n",
      "800 of 941285 files processed\n",
      "900 of 941285 files processed\n",
      "1000 of 941285 files processed\n",
      "1100 of 941285 files processed\n",
      "1200 of 941285 files processed\n",
      "1300 of 941285 files processed\n",
      "1400 of 941285 files processed\n",
      "1500 of 941285 files processed\n",
      "1600 of 941285 files processed\n",
      "1700 of 941285 files processed\n",
      "1800 of 941285 files processed\n",
      "1900 of 941285 files processed\n",
      "2000 of 941285 files processed\n",
      "2100 of 941285 files processed\n",
      "2200 of 941285 files processed\n",
      "2300 of 941285 files processed\n",
      "2400 of 941285 files processed\n",
      "2500 of 941285 files processed\n",
      "2600 of 941285 files processed\n",
      "2700 of 941285 files processed\n",
      "2800 of 941285 files processed\n",
      "2900 of 941285 files processed\n",
      "3000 of 941285 files processed\n",
      "3100 of 941285 files processed\n",
      "3200 of 941285 files processed\n",
      "3300 of 941285 files processed\n",
      "3400 of 941285 files processed\n",
      "3500 of 941285 files processed\n",
      "3600 of 941285 files processed\n",
      "3700 of 941285 files processed\n",
      "3800 of 941285 files processed\n",
      "3900 of 941285 files processed\n"
     ]
    },
    {
     "ename": "BadZipFile",
     "evalue": "File is not a zip file",
     "output_type": "error",
     "traceback": [
      "\u001b[0;31m---------------------------------------------------------------------------\u001b[0m",
      "\u001b[0;31mBadZipFile\u001b[0m                                Traceback (most recent call last)",
      "\u001b[0;32m/tmp/ipykernel_977/2966807255.py\u001b[0m in \u001b[0;36m<module>\u001b[0;34m\u001b[0m\n\u001b[1;32m     12\u001b[0m \u001b[0;34m\u001b[0m\u001b[0m\n\u001b[1;32m     13\u001b[0m     \u001b[0;32mif\u001b[0m \u001b[0mfile\u001b[0m\u001b[0;34m[\u001b[0m\u001b[0;36m1\u001b[0m\u001b[0;34m]\u001b[0m\u001b[0;34m.\u001b[0m\u001b[0mendswith\u001b[0m\u001b[0;34m(\u001b[0m\u001b[0;34m\".zip\"\u001b[0m\u001b[0;34m)\u001b[0m\u001b[0;34m:\u001b[0m\u001b[0;34m\u001b[0m\u001b[0;34m\u001b[0m\u001b[0m\n\u001b[0;32m---> 14\u001b[0;31m         \u001b[0mextract_zip\u001b[0m\u001b[0;34m(\u001b[0m\u001b[0mos\u001b[0m\u001b[0;34m.\u001b[0m\u001b[0mpath\u001b[0m\u001b[0;34m.\u001b[0m\u001b[0mjoin\u001b[0m\u001b[0;34m(\u001b[0m\u001b[0mfile\u001b[0m\u001b[0;34m[\u001b[0m\u001b[0;36m0\u001b[0m\u001b[0;34m]\u001b[0m\u001b[0;34m,\u001b[0m \u001b[0mfile\u001b[0m\u001b[0;34m[\u001b[0m\u001b[0;36m1\u001b[0m\u001b[0;34m]\u001b[0m\u001b[0;34m)\u001b[0m\u001b[0;34m)\u001b[0m\u001b[0;34m\u001b[0m\u001b[0;34m\u001b[0m\u001b[0m\n\u001b[0m\u001b[1;32m     15\u001b[0m         \u001b[0;31m# print(file[0], file[1])\u001b[0m\u001b[0;34m\u001b[0m\u001b[0;34m\u001b[0m\u001b[0;34m\u001b[0m\u001b[0m\n\u001b[1;32m     16\u001b[0m         \u001b[0miCounter\u001b[0m \u001b[0;34m+=\u001b[0m \u001b[0;36m1\u001b[0m\u001b[0;34m\u001b[0m\u001b[0;34m\u001b[0m\u001b[0m\n",
      "\u001b[0;32m/tmp/ipykernel_977/2805969170.py\u001b[0m in \u001b[0;36mextract_zip\u001b[0;34m(zip_file)\u001b[0m\n\u001b[1;32m      7\u001b[0m \u001b[0;32mdef\u001b[0m \u001b[0mextract_zip\u001b[0m\u001b[0;34m(\u001b[0m\u001b[0mzip_file\u001b[0m\u001b[0;34m)\u001b[0m\u001b[0;34m:\u001b[0m\u001b[0;34m\u001b[0m\u001b[0;34m\u001b[0m\u001b[0m\n\u001b[1;32m      8\u001b[0m     \u001b[0;31m# extract the .zip file to a folder with the same name as the .zip file\u001b[0m\u001b[0;34m\u001b[0m\u001b[0;34m\u001b[0m\u001b[0;34m\u001b[0m\u001b[0m\n\u001b[0;32m----> 9\u001b[0;31m     \u001b[0;32mwith\u001b[0m \u001b[0mzipfile\u001b[0m\u001b[0;34m.\u001b[0m\u001b[0mZipFile\u001b[0m\u001b[0;34m(\u001b[0m\u001b[0mzip_file\u001b[0m\u001b[0;34m,\u001b[0m \u001b[0;34m'r'\u001b[0m\u001b[0;34m)\u001b[0m \u001b[0;32mas\u001b[0m \u001b[0mzip_ref\u001b[0m\u001b[0;34m:\u001b[0m\u001b[0;34m\u001b[0m\u001b[0;34m\u001b[0m\u001b[0m\n\u001b[0m\u001b[1;32m     10\u001b[0m         \u001b[0mzip_ref\u001b[0m\u001b[0;34m.\u001b[0m\u001b[0mextractall\u001b[0m\u001b[0;34m(\u001b[0m\u001b[0mos\u001b[0m\u001b[0;34m.\u001b[0m\u001b[0mpath\u001b[0m\u001b[0;34m.\u001b[0m\u001b[0msplitext\u001b[0m\u001b[0;34m(\u001b[0m\u001b[0mzip_file\u001b[0m\u001b[0;34m)\u001b[0m\u001b[0;34m[\u001b[0m\u001b[0;36m0\u001b[0m\u001b[0;34m]\u001b[0m\u001b[0;34m)\u001b[0m\u001b[0;34m\u001b[0m\u001b[0;34m\u001b[0m\u001b[0m\n\u001b[1;32m     11\u001b[0m \u001b[0;34m\u001b[0m\u001b[0m\n",
      "\u001b[0;32m/usr/lib/python3.8/zipfile.py\u001b[0m in \u001b[0;36m__init__\u001b[0;34m(self, file, mode, compression, allowZip64, compresslevel, strict_timestamps)\u001b[0m\n\u001b[1;32m   1267\u001b[0m         \u001b[0;32mtry\u001b[0m\u001b[0;34m:\u001b[0m\u001b[0;34m\u001b[0m\u001b[0;34m\u001b[0m\u001b[0m\n\u001b[1;32m   1268\u001b[0m             \u001b[0;32mif\u001b[0m \u001b[0mmode\u001b[0m \u001b[0;34m==\u001b[0m \u001b[0;34m'r'\u001b[0m\u001b[0;34m:\u001b[0m\u001b[0;34m\u001b[0m\u001b[0;34m\u001b[0m\u001b[0m\n\u001b[0;32m-> 1269\u001b[0;31m                 \u001b[0mself\u001b[0m\u001b[0;34m.\u001b[0m\u001b[0m_RealGetContents\u001b[0m\u001b[0;34m(\u001b[0m\u001b[0;34m)\u001b[0m\u001b[0;34m\u001b[0m\u001b[0;34m\u001b[0m\u001b[0m\n\u001b[0m\u001b[1;32m   1270\u001b[0m             \u001b[0;32melif\u001b[0m \u001b[0mmode\u001b[0m \u001b[0;32min\u001b[0m \u001b[0;34m(\u001b[0m\u001b[0;34m'w'\u001b[0m\u001b[0;34m,\u001b[0m \u001b[0;34m'x'\u001b[0m\u001b[0;34m)\u001b[0m\u001b[0;34m:\u001b[0m\u001b[0;34m\u001b[0m\u001b[0;34m\u001b[0m\u001b[0m\n\u001b[1;32m   1271\u001b[0m                 \u001b[0;31m# set the modified flag so central directory gets written\u001b[0m\u001b[0;34m\u001b[0m\u001b[0;34m\u001b[0m\u001b[0;34m\u001b[0m\u001b[0m\n",
      "\u001b[0;32m/usr/lib/python3.8/zipfile.py\u001b[0m in \u001b[0;36m_RealGetContents\u001b[0;34m(self)\u001b[0m\n\u001b[1;32m   1334\u001b[0m             \u001b[0;32mraise\u001b[0m \u001b[0mBadZipFile\u001b[0m\u001b[0;34m(\u001b[0m\u001b[0;34m\"File is not a zip file\"\u001b[0m\u001b[0;34m)\u001b[0m\u001b[0;34m\u001b[0m\u001b[0;34m\u001b[0m\u001b[0m\n\u001b[1;32m   1335\u001b[0m         \u001b[0;32mif\u001b[0m \u001b[0;32mnot\u001b[0m \u001b[0mendrec\u001b[0m\u001b[0;34m:\u001b[0m\u001b[0;34m\u001b[0m\u001b[0;34m\u001b[0m\u001b[0m\n\u001b[0;32m-> 1336\u001b[0;31m             \u001b[0;32mraise\u001b[0m \u001b[0mBadZipFile\u001b[0m\u001b[0;34m(\u001b[0m\u001b[0;34m\"File is not a zip file\"\u001b[0m\u001b[0;34m)\u001b[0m\u001b[0;34m\u001b[0m\u001b[0;34m\u001b[0m\u001b[0m\n\u001b[0m\u001b[1;32m   1337\u001b[0m         \u001b[0;32mif\u001b[0m \u001b[0mself\u001b[0m\u001b[0;34m.\u001b[0m\u001b[0mdebug\u001b[0m \u001b[0;34m>\u001b[0m \u001b[0;36m1\u001b[0m\u001b[0;34m:\u001b[0m\u001b[0;34m\u001b[0m\u001b[0;34m\u001b[0m\u001b[0m\n\u001b[1;32m   1338\u001b[0m             \u001b[0mprint\u001b[0m\u001b[0;34m(\u001b[0m\u001b[0mendrec\u001b[0m\u001b[0;34m)\u001b[0m\u001b[0;34m\u001b[0m\u001b[0;34m\u001b[0m\u001b[0m\n",
      "\u001b[0;31mBadZipFile\u001b[0m: File is not a zip file"
     ]
    }
   ],
   "source": [
    "# then, let's convert them\n",
    "\n",
    "total = len(files)\n",
    "iCounter = 0\n",
    "\n",
    "# if the file is a .doc file, convert it to .docx\n",
    "for file in files:\n",
    "    if file[1].endswith(\".doc\") or file[1].endswith(\".rtf\"):\n",
    "        # check if the same file with .docx exists\n",
    "        if os.path.exists(os.path.join(file[0], file[1] + 'x')):\n",
    "            print(f'{file[0]}{file[1]}x already exists')\n",
    "            iCounter += 1\n",
    "        else: \n",
    "            convert_doc_to_docx(os.path.join(file[0], file[1]))\n",
    "        # print(file[0], file[1])\n",
    "        iCounter += 1\n",
    "\n",
    "    if file[1].endswith(\".zip\"):\n",
    "        try: \n",
    "            extract_zip(os.path.join(file[0], file[1]))\n",
    "        except:\n",
    "            print(f'Error extracting {file[0]}{file[1]}')\n",
    "        # print(file[0], file[1])\n",
    "        iCounter += 1\n",
    "    # print status every 100 files\n",
    "    if iCounter % 100 == 0:\n",
    "        print(f'{iCounter} of {total} files processed')\n"
   ]
  },
  {
   "cell_type": "code",
   "execution_count": 6,
   "metadata": {},
   "outputs": [],
   "source": [
    "# now, if a file is a .zip file, then we need to extract it to a folder with the same name as the .zip file\n",
    "# and then convert all .doc files in the folder to .docx files\n",
    "# we can use the zipfile module to extract the .zip file\n",
    "# and then use the os module to convert the .doc files to .docx files\n",
    "import zipfile\n",
    "\n",
    "def extract_zip(zip_file):\n",
    "    # extract the .zip file to a folder with the same name as the .zip file\n",
    "    with zipfile.ZipFile(zip_file, 'r') as zip_ref:\n",
    "        zip_ref.extractall(os.path.splitext(zip_file)[0])\n",
    "\n",
    "    # get all .doc files in the folder\n",
    "    files = get_files(os.path.splitext(zip_file)[0])\n",
    "\n",
    "    # convert all .doc files to .docx files\n",
    "    for file in files:\n",
    "        if file[1].endswith(\".doc\") or file[1].endswith(\".rtf\"):\n",
    "            convert_doc_to_docx(os.path.join(file[0], file[1]))\n",
    "            # print(file[0], file[1])"
   ]
  }
 ],
 "metadata": {
  "kernelspec": {
   "display_name": "standards",
   "language": "python",
   "name": "python3"
  },
  "language_info": {
   "codemirror_mode": {
    "name": "ipython",
    "version": 3
   },
   "file_extension": ".py",
   "mimetype": "text/x-python",
   "name": "python",
   "nbconvert_exporter": "python",
   "pygments_lexer": "ipython3",
   "version": "3.8.10"
  }
 },
 "nbformat": 4,
 "nbformat_minor": 2
}
